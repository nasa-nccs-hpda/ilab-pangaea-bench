{
 "cells": [
  {
   "cell_type": "markdown",
   "id": "93d44567",
   "metadata": {},
   "source": [
    "# Pangaea Training Notebook\n",
    "\n",
    "This notebook aims to help users train their desired models on whichever datasets they wish, by building a console command from user preferences. \n",
    "\n",
    "## Building the environment\n",
    "\n",
    "1) Find the `environment.yml` file in the repo, and executing the command: `conda env create -f environment.yml`. Make sure you are in the ilab-pangaea-repo directory that you've cloned!\n",
    "2) In the jupyterhub session, click on the top right area that says `Python [...]`, and select `conda env: conda-pangaea-bench`.\n",
    "3) You can now run the notebook as needed!\n",
    "\n",
    "## How to use this notebook\n",
    "\n",
    "Each section (e.g. \"X Options\") refers to a different facet of using Foundation Models. Tasks, Datasets, Encoders, Decoders, and so on, all have their own section here. Each section is organized into subsections for consistency and readability. Below is a brief explanation of how the subsections function and relate to one another. \n",
    "\n",
    "#### Filenames subsection: \n",
    "\n",
    "This will contain a set of preconfigured code options that the user can choose from. The first cell will run a check in the repository for existing code, and will print out a list of options for the user to pick from. For example, the first section, called Task Options, will print out a list of the various tasks that users can perform with the FMs in this repo. Users will pick from this list to perform the task that they desire. This will hold True for any section in the notebook; if using code from the repo directly, one only needs to change the associated variable (`task` in our Task Options example).  \n",
    "\n",
    "#### Parameters subsection: \n",
    "\n",
    "This section contains contents of .yaml files, which represent the configuration for a certain code behavior. The first variable controls the behavior of this entire subsection: if you wish to override config parameters or create your own, set the corresponding `override` variable to `True`. Otherwise, leave it as `False`.\n",
    "\n",
    "Example: The Dataset Options section has a parameters subsection that contains multiple different variables that need to be edited by the user, if they wish to use their own dataset. After setting `ds_override = True`, users can now change other parameters of their choosing, which will override the stock config option. \n",
    "\n",
    "**Note: if you change variables but leave the override variable as `False`, your changes will not take place!**\n",
    "\n",
    "Each variable in this subsection represents a configurable value -- <span style=\"color: red\">each variable has its own format and other considerations, so be sure to read comments</span> (`# this is a comment`). *If users prefer, they can read the documentation (linked below) and edit .yaml files directly. The parameters subsection is designed to be easy to use, but some users may find the direct configuration of the yaml file more desirable.* \n",
    "\n",
    "#### Build config subsection: no edits needed! \n",
    "\n",
    "At the end of sections that allow for more customization, some code will run to incorporate user preferences into stock preferences. If no stock preferences were chosen (by leaving the associated variable as the empty string, `\"\"`, in the filename section), then the configuration will be built entirely from user preferences. If the override variable in the parameters section was false, then the config will use the stock config directly. \n",
    "\n",
    "#### Build/execute command subsections: \n",
    "\n",
    "The very bottom of the notebook will run a command-line interface to begin training with the user configuration that was built in this notebook. This will include logging to display progress and any errors that may arise. \n",
    "\n",
    "## Questions?\n",
    "\n",
    "If you have any questions, please read the [documentation](https://nasa-nccs-hpda.github.io/ilab-pangaea-bench/), which includes sections on troubleshooting and individual config file needs. "
   ]
  },
  {
   "cell_type": "markdown",
   "id": "f189fdf2-1c54-4a80-bab0-9f21ff20ff6f",
   "metadata": {},
   "source": [
    "## Setup\n",
    "\n",
    "Import python libraries, clone repo into our current directory, and import from repo."
   ]
  },
  {
   "cell_type": "markdown",
   "id": "20a24abf-fc55-412e-897f-ecbde9fc9bed",
   "metadata": {},
   "source": [
    "### Imports and cloning"
   ]
  },
  {
   "cell_type": "code",
   "execution_count": 1,
   "id": "42d4775a",
   "metadata": {},
   "outputs": [],
   "source": [
    "import os\n",
    "import torch\n",
    "import subprocess\n",
    "from hydra import initialize, compose\n",
    "from omegaconf import OmegaConf\n",
    "import copy\n",
    "from pprint import pprint\n",
    "import sys\n",
    "import warnings"
   ]
  },
  {
   "cell_type": "code",
   "execution_count": 2,
   "id": "0af69301-68c6-4bed-a1f5-eba952da4e0c",
   "metadata": {},
   "outputs": [
    {
     "name": "stderr",
     "output_type": "stream",
     "text": [
      "From https://github.com/nasa-nccs-hpda/ilab-pangaea-bench\n",
      "   df1aeb0..83a208a  main       -> origin/main\n",
      "\u001b[33mWARNING: Ignoring invalid distribution -angaea (/panfs/ccds02/nobackup/people/ajkerr1/.conda/envs/pangaea-bench/lib/python3.10/site-packages)\u001b[0m\u001b[33m\n",
      "\u001b[0m\u001b[33mWARNING: Ignoring invalid distribution -angaea (/panfs/ccds02/nobackup/people/ajkerr1/.conda/envs/pangaea-bench/lib/python3.10/site-packages)\u001b[0m\u001b[33m\n",
      "\u001b[0m\u001b[33m  DEPRECATION: Legacy editable install of pangaea==1.0.0 from file:///panfs/ccds02/nobackup/people/ajkerr1/EO_FM/ilab-pangaea-bench/notebooks/ilab-pangaea-bench (setup.py develop) is deprecated. pip 25.3 will enforce this behaviour change. A possible replacement is to add a pyproject.toml or enable --use-pep517, and use setuptools >= 64. If the resulting installation is not behaving as expected, try using --config-settings editable_mode=compat. Please consult the setuptools documentation for more information. Discussion can be found at https://github.com/pypa/pip/issues/11457\u001b[0m\u001b[33m\n",
      "\u001b[0m\u001b[33mWARNING: Ignoring invalid distribution -angaea (/panfs/ccds02/nobackup/people/ajkerr1/.conda/envs/pangaea-bench/lib/python3.10/site-packages)\u001b[0m\u001b[33m\n",
      "\u001b[0m"
     ]
    }
   ],
   "source": [
    "warnings.filterwarnings('ignore')\n",
    "repo_name = \"ilab-pangaea-bench\"\n",
    "if not os.path.exists(repo_name):\n",
    "    subprocess.run([\"git\", \"clone\", \"https://github.com/nasa-nccs-hpda/ilab-pangaea-bench.git\"], \n",
    "                   check=True, stdout=subprocess.DEVNULL)\n",
    "else:\n",
    "    subprocess.run([\"git\", \"-C\", repo_name, \"pull\"], check=True, stdout=subprocess.DEVNULL)\n",
    "\n",
    "subprocess.run([sys.executable, \"-m\", \"pip\", \"install\", \"-e\", \"./ilab-pangaea-bench\"], \n",
    "               check=True, stdout=subprocess.DEVNULL)\n",
    "sys.path.append(\"ilab-pangaea-bench\")"
   ]
  },
  {
   "cell_type": "code",
   "execution_count": 4,
   "id": "800de081-6ee6-4ce7-b652-85f99e6cb6b4",
   "metadata": {},
   "outputs": [],
   "source": [
    "from pangaea.utils.train_utils import (build_config, get_folder_options, is_valid_override)"
   ]
  },
  {
   "cell_type": "markdown",
   "id": "d0852f74-6158-4a19-8443-06a1f7c02141",
   "metadata": {},
   "source": [
    "### Helper functions\n",
    "Streamline some cell operations"
   ]
  },
  {
   "cell_type": "code",
   "execution_count": null,
   "id": "d58f79ca-805f-4c10-a73f-5b5ce88a15ac",
   "metadata": {},
   "outputs": [],
   "source": [
    "def collect_config_variables(param_var_names=[]):\n",
    "    \"\"\"Create user parameters dict from global variable names.\n",
    "    \n",
    "    Allows for merging of default config and user params.\"\"\"\n",
    "    all_vars = globals()  # Get all variables in the notebook\n",
    "    \n",
    "    # Extract variables from user params into a dict\n",
    "    params_dict = {}\n",
    "    for var_name in param_var_names:\n",
    "        if var_name in all_vars: \n",
    "            var = all_vars[var_name]\n",
    "            if is_valid_override(var):  # Add user param if it's truthy (except booleans)\n",
    "                params_dict[var_name] = var\n",
    "            del globals()[var_name]\n",
    "        else:\n",
    "            print(f\"Warning: Variable '{var_name}' not found in globals\")\n",
    "    \n",
    "    return params_dict\n",
    "\n",
    "def create_split_dict(split_name, list_of_classes, default_dict):\n",
    "    \"\"\"Create a dict for train/val/test split preprocessing. Used to generate config.\"\"\"\n",
    "    split_dict = copy.deepcopy(default_dict)\n",
    "    split_dict[\"preprocessor_cfg\"] = [\n",
    "        {\"_target_\": f\"pangaea.engine.data_preprocessor.{class_name}\"} \n",
    "        for class_name in list_of_classes\n",
    "    ]\n",
    "    return split_dict"
   ]
  },
  {
   "cell_type": "markdown",
   "id": "dba748bd",
   "metadata": {},
   "source": [
    "## Defining command options\n",
    "Here is where users will pick from a list of options for training. The first cell in each subsection will generate a list of options, and the second cell will be where users will enter their choice from the list provided. \n",
    "\n",
    "**This is where you need to edit this notebook.**"
   ]
  },
  {
   "cell_type": "markdown",
   "id": "ce618f99-e6e0-4f55-96b1-19a50f050189",
   "metadata": {
    "jp-MarkdownHeadingCollapsed": true
   },
   "source": [
    "### Task Options"
   ]
  },
  {
   "cell_type": "markdown",
   "id": "f9dadc3b-3271-4789-b738-b526b349c0ae",
   "metadata": {},
   "source": [
    "#### Filename"
   ]
  },
  {
   "cell_type": "code",
   "execution_count": 5,
   "id": "23c4303b",
   "metadata": {},
   "outputs": [
    {
     "name": "stdout",
     "output_type": "stream",
     "text": [
      "['change_detection', 'knn_probe', 'knn_probe_multi_label', 'linear_classification', 'linear_classification_multi_label', 'regression', 'segmentation']\n"
     ]
    }
   ],
   "source": [
    "# PRINT OPTIONS\n",
    "task_options = get_folder_options(\"task\")\n",
    "print(task_options)"
   ]
  },
  {
   "cell_type": "code",
   "execution_count": 6,
   "id": "6e9044bd",
   "metadata": {},
   "outputs": [],
   "source": [
    "task = \"regression\""
   ]
  },
  {
   "cell_type": "markdown",
   "id": "3bdf7fcb",
   "metadata": {
    "jp-MarkdownHeadingCollapsed": true
   },
   "source": [
    "### Dataset Options"
   ]
  },
  {
   "cell_type": "markdown",
   "id": "a11c2b8c-6c94-4734-915c-6d7c12b2b8d3",
   "metadata": {},
   "source": [
    "#### Filename"
   ]
  },
  {
   "cell_type": "code",
   "execution_count": 7,
   "id": "61212109",
   "metadata": {},
   "outputs": [
    {
     "name": "stdout",
     "output_type": "stream",
     "text": [
      "['aboveshrubschm', 'ai4smallfarms', 'biomassters', 'croptypemapping', 'dynamicen', 'fivebillionpixels', 'fivebillionpixels_cross_sensors', 'hlsburnscars', 'landsatnlcd-Copy1', 'landsatnlcd', 'mados', 'mbigearthnet', 'mbrickkiln', 'mcashew-plantation', 'mchesapeake-landcover', 'meurosat', 'mforestnet', 'mneontree', 'mnz-cattle', 'mpv4ger-seg', 'mpv4ger', 'msa-crop-type', 'mso2sat', 'oceancolor', 'oceancolor_tm', 'oceancolorval', 'opencanopy', 'pastis', 'potsdam', 'sen1floods11', 'spacenet7', 'spacenet7cd', 'xview2']\n"
     ]
    }
   ],
   "source": [
    "# PRINT OPTIONS\n",
    "dataset_options = get_folder_options(\"dataset\")\n",
    "print(dataset_options)"
   ]
  },
  {
   "cell_type": "code",
   "execution_count": 8,
   "id": "c772c0eb-d4b5-4a02-a7ee-7bc70bac6832",
   "metadata": {},
   "outputs": [],
   "source": [
    "dataset = \"oceancolor\""
   ]
  },
  {
   "cell_type": "markdown",
   "id": "3f37ebdc-bc4f-4d75-ac6c-51150e66d086",
   "metadata": {},
   "source": [
    "#### Parameters"
   ]
  },
  {
   "cell_type": "code",
   "execution_count": null,
   "id": "bb8f1dfb-54c9-4ec5-a210-2a5506c30c32",
   "metadata": {},
   "outputs": [],
   "source": [
    "ds_override = False  # Set to True if you want to define your own functionality\n",
    "\n",
    "# If making your own dataset\n",
    "target_class = \"CustomPangaeaDataset\"\n",
    "_target_ = f\"pangaea.datasets.{target_class}\"\n",
    "\n",
    "# ALWAYS EDIT\n",
    "root_path = \".\"  # Where to gather dataset files from on ADAPT\n",
    "download_url = \"https://yourdataURL.com\"  # Where to download files from (will be downloaded to\n",
    "img_size = 224  # Height and Width of individual dataset images (must be square)"
   ]
  },
  {
   "cell_type": "code",
   "execution_count": 10,
   "id": "8f9ccc20-0ff8-4de1-a6ff-a0c6f0d8c371",
   "metadata": {},
   "outputs": [],
   "source": [
    "# Change to match band numbers for inputs\n",
    "# Bands are separated by modality; each modality is a key: value pair in the dictionary\n",
    "bands = {\n",
    "    \"optical\": [\"B1\", \"B2\", \"B3\", \"B4\", \"B5\", \"B6\", \"B7\", \"B8\", \"B9\", \"B10\", \"B11\", \"B12\"]\n",
    "}\n",
    "\n",
    "# REQUIRED FOR STOCK MIN-MAX SCALING PREPROCESSING\n",
    "# As with bands above, these are separated by modality, add more k: v pairs if needed\n",
    "data_mean = {\n",
    "    \"optical\": [0.5, 0.5, 0.5, 0.5, 0.5, 0.5, 0.5, 0.5, 0.5, 0.5, 0.5, 0.5, 0.5],\n",
    "    # other modalities\n",
    "}\n",
    "data_std = {\n",
    "    \"optical\": [0, 0, 0, 0, 0, 0, 0, 0, 0, 0, 0, 0, 0], \n",
    "    # other modalities\n",
    "}\n",
    "data_min = {\n",
    "    \"optical\": [0, 0, 0, 0, 0, 0, 0, 0, 0, 0, 0, 0, 0], \n",
    "    # other modalities\n",
    "}\n",
    "data_max = {\n",
    "    \"optical\": [1, 1, 1, 1, 1, 1, 1, 1, 1, 1, 1, 1, 1], \n",
    "    # other modalities\n",
    "}"
   ]
  },
  {
   "cell_type": "code",
   "execution_count": 11,
   "id": "ebf1a58b-3ac0-4a5b-aac6-5c909c413dae",
   "metadata": {},
   "outputs": [],
   "source": [
    "# TASK-DEPENDANT OPTIONS\n",
    "multi_temporal = False  # Whether input data is multi-temporal\n",
    "multi_modal = False  # Whether input data is multimodal\n",
    "num_classes = 1  # For classification/segmentation, change this value to your number of classes\n",
    "classes = [\"regression\"]  # List of class names; only needs changing for classification or segmentation\n",
    "distribution = [0]  # List of probability of encountering certain target values; only used for classification or segmentation"
   ]
  },
  {
   "cell_type": "markdown",
   "id": "8425b8a2-1628-4ad8-92b4-274cff5c2309",
   "metadata": {},
   "source": [
    "#### Build config - no need to edit this section"
   ]
  },
  {
   "cell_type": "code",
   "execution_count": 12,
   "id": "e14b8a34-5bd2-4287-8a17-965b7ba57534",
   "metadata": {},
   "outputs": [
    {
     "name": "stdout",
     "output_type": "stream",
     "text": [
      "original cfg: {'_target_': 'pangaea.datasets.ocean_color.OceanColorDataset', 'dataset_name': 'OceanColorDataset', 'root_path': '/explore/nobackup/people/ajkerr1/SatVision/OceanColor/chips/prithvi_chips/train', 'download_url': 'None', 'auto_download': False, 'img_size': 224, 'multi_temporal': False, 'multi_modal': False, 'ignore_index': -1, 'num_classes': 1, 'classes': ['regression'], 'distribution': [1.0], 'bands': {'optical': ['B8', 'B9', 'B10', 'B11', 'B12', 'B13']}, 'data_mean': {'optical': [0.485, 0.456, 0.404, 0.404, 0.404, 0.404]}, 'data_std': {'optical': [0.485, 0.456, 0.404, 0.404, 0.404, 0.404]}, 'data_min': {'optical': [0.0, 0.0, 0.0, 0.0, 0.0, 0.0]}, 'data_max': {'optical': [32767.0, 32767.0, 32767.0, 32767.0, 32767.0, 32767.0]}, 'num_inputs': 6, 'num_targets': 1, 'target_idx': 6}\n",
      "user params: {'_target_': 'pangaea.datasets.CustomPangaeaDataset', 'root_path': '.', 'download_url': 'https://fakewebsite.com', 'img_size': 224, 'distribution': [0], 'bands': {'optical': ['B1', 'B2', 'B3', 'B4', 'B5', 'B6', 'B7', 'B8', 'B9', 'B10', 'B11', 'B12']}, 'multi_temporal': False, 'multi_modal': False, 'num_classes': 1, 'classes': ['regression'], 'data_mean': {'optical': [0.5, 0.5, 0.5, 0.5, 0.5, 0.5, 0.5, 0.5, 0.5, 0.5, 0.5, 0.5, 0.5]}, 'data_std': {'optical': [0, 0, 0, 0, 0, 0, 0, 0, 0, 0, 0, 0, 0]}, 'data_min': {'optical': [0, 0, 0, 0, 0, 0, 0, 0, 0, 0, 0, 0, 0]}, 'data_max': {'optical': [1, 1, 1, 1, 1, 1, 1, 1, 1, 1, 1, 1, 1]}}\n",
      "merged cfg: {'_target_': 'pangaea.datasets.ocean_color.OceanColorDataset', 'dataset_name': 'OceanColorDataset', 'root_path': '/explore/nobackup/people/ajkerr1/SatVision/OceanColor/chips/prithvi_chips/train', 'download_url': 'None', 'auto_download': False, 'img_size': 224, 'multi_temporal': False, 'multi_modal': False, 'ignore_index': -1, 'num_classes': 1, 'classes': ['regression'], 'distribution': [1.0], 'bands': {'optical': ['B8', 'B9', 'B10', 'B11', 'B12', 'B13']}, 'data_mean': {'optical': [0.485, 0.456, 0.404, 0.404, 0.404, 0.404]}, 'data_std': {'optical': [0.485, 0.456, 0.404, 0.404, 0.404, 0.404]}, 'data_min': {'optical': [0.0, 0.0, 0.0, 0.0, 0.0, 0.0]}, 'data_max': {'optical': [32767.0, 32767.0, 32767.0, 32767.0, 32767.0, 32767.0]}, 'num_inputs': 6, 'num_targets': 1, 'target_idx': 6}\n",
      "Config saved to oceancolordataset.yaml\n"
     ]
    }
   ],
   "source": [
    "# Automatically populate variables\n",
    "ds_var_names = [\n",
    "    '_target_', 'root_path', 'download_url', \n",
    "    'img_size', 'distribution', 'bands', 'multi_temporal', \n",
    "    'multi_modal', 'num_classes', 'classes', 'data_mean', \n",
    "    'data_std', 'data_min', 'data_max'\n",
    "]\n",
    "ds_params = collect_config_variables(ds_var_names)\n",
    "\n",
    "# Load stock config if defined\n",
    "if (dataset):\n",
    "    with initialize(config_path=\"ilab-pangaea-bench/configs/dataset\", version_base=None):\n",
    "        ds_cfg = compose(config_name=dataset)\n",
    "else:\n",
    "    ds_cfg = {}\n",
    "    ds_override = True\n",
    "\n",
    "# Merge user and stock configs depending on override preference\n",
    "ds_cfg, ds_cfg_filename = build_config(\"dataset\", ds_params, ds_cfg, ds_override)"
   ]
  },
  {
   "cell_type": "markdown",
   "id": "5a678eca",
   "metadata": {
    "jp-MarkdownHeadingCollapsed": true
   },
   "source": [
    "### Encoder options\n",
    "\n",
    "**Note**: encoders have very different architectures from one another. This means that the config files may look quite different from one to the other, so we have included the absolute bare minimum to editing the encoder file. Many other values are left as default values for existing encoders, and if making your own it's assumed you will know how to edit those parameters on your own (outside of this notebook). "
   ]
  },
  {
   "cell_type": "markdown",
   "id": "ea549363",
   "metadata": {
    "jp-MarkdownHeadingCollapsed": true
   },
   "source": [
    "#### Filename"
   ]
  },
  {
   "cell_type": "code",
   "execution_count": 13,
   "id": "3340444b",
   "metadata": {},
   "outputs": [
    {
     "name": "stdout",
     "output_type": "stream",
     "text": [
      "['croma_joint', 'croma_optical', 'croma_sar', 'dofa', 'gfmswin', 'prithvi', 'remoteclip', 'resnet50_pretrained', 'resnet50_scratch', 'satlasnet_mi', 'satlasnet_si', 'scalemae', 'spectralgpt', 'ssl4eo_data2vec', 'ssl4eo_dino', 'ssl4eo_mae_optical', 'ssl4eo_mae_sar', 'ssl4eo_moco', 'terramind_large', 'unet_encoder', 'unet_encoder_mi', 'vit', 'vit_mi', 'vit_scratch']\n"
     ]
    }
   ],
   "source": [
    "# PRINT OPTIONS\n",
    "encoder_options = get_folder_options(\"encoder\")\n",
    "print(encoder_options)"
   ]
  },
  {
   "cell_type": "code",
   "execution_count": 14,
   "id": "8328e787",
   "metadata": {},
   "outputs": [],
   "source": [
    "# DEFINE YOUR ENCODER HERE FROM THE LIST ABOVE\n",
    "encoder = \"prithvi\""
   ]
  },
  {
   "cell_type": "markdown",
   "id": "f87fe40c-ac3b-4b29-b9c6-ec3cd62b8886",
   "metadata": {
    "jp-MarkdownHeadingCollapsed": true
   },
   "source": [
    "#### Parameters\n",
    "\n",
    "<span style=\"color: red\">Note: these are not exahaustive parameters needed to create a custom encoder. A python file must be created in the `pangaea/encoders` directory, as well as some more specific .yaml parameters. Check the [documentation](https://nasa-nccs-hpda.github.io/ilab-pangaea-bench/) and see some other encoder configuration files for examples.</span>"
   ]
  },
  {
   "cell_type": "code",
   "execution_count": null,
   "id": "ed95e845-5e62-43e5-b7fb-5e728b1bc517",
   "metadata": {},
   "outputs": [],
   "source": [
    "enc_override = False  # Set to True if you want to define your own functionality\n",
    "\n",
    "# IF MAKING A CUSTOM ENCODER\n",
    "enc_py_filename = \"\"  # .py filename of encoder you've written\n",
    "enc_class = \"\"  # Name of python class in the .py file above\n",
    "weights_filename = \"\"  # Filename of weights to load\n",
    "download_url = \"https://yourdataURL.com\"  # URL to fetch weights from (e.g. huggingface)\n",
    "output_layers = [3, 5, 7, 11]  # Indices of layers to output to decoder\n",
    "output_dim = 1024  # Dimensionality of output to decoder"
   ]
  },
  {
   "cell_type": "markdown",
   "id": "fd886f34-bc4e-4e89-b45b-2df0c00745fc",
   "metadata": {
    "jp-MarkdownHeadingCollapsed": true
   },
   "source": [
    "#### Build config"
   ]
  },
  {
   "cell_type": "code",
   "execution_count": 16,
   "id": "0e2d2062-12b7-4522-811f-2e34dbd6f195",
   "metadata": {},
   "outputs": [
    {
     "name": "stdout",
     "output_type": "stream",
     "text": [
      "original cfg: {'_target_': 'pangaea.encoders.prithvi_encoder.Prithvi_Encoder', 'encoder_weights': './pretrained_models/Prithvi_EO_V2_300M.pt', 'download_url': 'https://huggingface.co/ibm-nasa-geospatial/Prithvi-EO-2.0-300M/resolve/main/Prithvi_EO_V2_300M.pt', 'embed_dim': 768, 'input_size': 224, 'in_chans': 6, 'patch_size': 16, 'num_heads': 12, 'depth': 12, 'mlp_ratio': 4, 'tubelet_size': 1, 'num_frames': '${dataset.multi_temporal}', 'input_bands': {'optical': ['B2', 'B3', 'B4', 'B8A', 'B11', 'B12']}, 'output_layers': [3, 5, 7, 11], 'output_dim': 768}\n",
      "user params: {'download_url': 'https://fakewebsite.com', 'output_layers': [3, 5, 7, 11], 'output_dim': 1024}\n",
      "merged cfg: {'_target_': 'pangaea.encoders.prithvi_encoder.Prithvi_Encoder', 'encoder_weights': './pretrained_models/Prithvi_EO_V2_300M.pt', 'download_url': 'https://huggingface.co/ibm-nasa-geospatial/Prithvi-EO-2.0-300M/resolve/main/Prithvi_EO_V2_300M.pt', 'embed_dim': 768, 'input_size': 224, 'in_chans': 6, 'patch_size': 16, 'num_heads': 12, 'depth': 12, 'mlp_ratio': 4, 'tubelet_size': 1, 'num_frames': '${dataset.multi_temporal}', 'input_bands': {'optical': ['B2', 'B3', 'B4', 'B8A', 'B11', 'B12']}, 'output_layers': [3, 5, 7, 11], 'output_dim': 768}\n",
      "Config saved to prithvi_encoder.yaml\n"
     ]
    }
   ],
   "source": [
    "# Reformat user input to match config formatting, if non-empty string provided\n",
    "_target_ = (f\"pangaea.encoders.{target_py_filename}.{target_class}\" \n",
    "           if (enc_py_filename and enc_class) \n",
    "           else \"\")\n",
    "\n",
    "encoder_weights = (f\"./pretrained_models/{weights_filename}\" \n",
    "                  if weights_filename \n",
    "                  else \"\")\n",
    "\n",
    "# Automatically populate variables\n",
    "enc_var_names = [\n",
    "    '_target_', 'encoder_weights', 'download_url',\n",
    "    'output_layers', 'output_dim'\n",
    "]\n",
    "enc_params = collect_config_variables(enc_var_names)\n",
    "\n",
    "# Load stock config if defined\n",
    "if (encoder):\n",
    "    with initialize(config_path=\"ilab-pangaea-bench/configs/encoder\", version_base=None):\n",
    "        enc_cfg = compose(config_name=encoder)\n",
    "else:\n",
    "    enc_cfg = {}\n",
    "    enc_override = True\n",
    "\n",
    "# Merge user and stock configs depending on override preference\n",
    "enc_cfg, enc_cfg_filename = build_config(\"encoder\", enc_params, enc_cfg, enc_override)"
   ]
  },
  {
   "cell_type": "markdown",
   "id": "4f132768",
   "metadata": {
    "jp-MarkdownHeadingCollapsed": true
   },
   "source": [
    "### Decoder options"
   ]
  },
  {
   "cell_type": "markdown",
   "id": "cf8d59fc-22a5-4922-b751-e3ca0eeaf10e",
   "metadata": {
    "jp-MarkdownHeadingCollapsed": true
   },
   "source": [
    "#### Filename"
   ]
  },
  {
   "cell_type": "code",
   "execution_count": 17,
   "id": "f978fc96",
   "metadata": {},
   "outputs": [
    {
     "name": "stdout",
     "output_type": "stream",
     "text": [
      "['cls_knn', 'cls_knn_multilabel', 'cls_linear', 'reg_unet', 'reg_upernet', 'reg_upernet_mt_linear', 'reg_upernet_mt_ltae', 'seg_siamunet_conc', 'seg_siamunet_diff', 'seg_siamupernet_conc', 'seg_siamupernet_diff', 'seg_unet', 'seg_upernet', 'seg_upernet_mt_linear', 'seg_upernet_mt_ltae', 'seg_upernet_mt_none']\n"
     ]
    }
   ],
   "source": [
    "# PRINT OPTIONS\n",
    "decoder_options = get_folder_options(\"decoder\")\n",
    "print(decoder_options)"
   ]
  },
  {
   "cell_type": "code",
   "execution_count": 18,
   "id": "46787161",
   "metadata": {},
   "outputs": [],
   "source": [
    "# DEFINE YOUR DECODER HERE FROM THE LIST ABOVE\n",
    "decoder = \"reg_upernet\""
   ]
  },
  {
   "cell_type": "markdown",
   "id": "67f95e10-ebe1-413a-95fa-c0a6cd879d2e",
   "metadata": {},
   "source": [
    "#### Parameters"
   ]
  },
  {
   "cell_type": "code",
   "execution_count": null,
   "id": "e2bf0380-a5c1-42a3-98c2-6db5f6cb56bf",
   "metadata": {},
   "outputs": [],
   "source": [
    "dec_override = False  # Set to True if you want to define your own functionality\n",
    "dec_py_filename = \"custom_decoder.py\"\n",
    "dec_class = \"CustomDecoder\"\n",
    "\n",
    "# Feel free to add any custom options if creating your own decoder"
   ]
  },
  {
   "cell_type": "markdown",
   "id": "92909e59-b051-451c-b426-a6bbf7dc7f04",
   "metadata": {},
   "source": [
    "#### Build config"
   ]
  },
  {
   "cell_type": "code",
   "execution_count": 20,
   "id": "06556410-34a1-4463-89e7-c7a2a54e9b63",
   "metadata": {},
   "outputs": [
    {
     "name": "stdout",
     "output_type": "stream",
     "text": [
      "original cfg: {'_target_': 'pangaea.decoders.upernet.RegUPerNet', 'encoder': None, 'finetune': '${finetune}', 'channels': 512}\n",
      "user params: {'_target_': 'pangaea.encoders.custom_decoder.py.CustomDecoder'}\n",
      "merged cfg: {'_target_': 'pangaea.decoders.upernet.RegUPerNet', 'encoder': None, 'finetune': '${finetune}', 'channels': 512}\n",
      "Config saved to regupernet.yaml\n"
     ]
    }
   ],
   "source": [
    "# Automatically populate variables\n",
    "_target_ = (f\"pangaea.encoders.{dec_py_filename}.{dec_class}\" \n",
    "            if dec_py_filename and dec_class else \"\")\n",
    "dec_var_names = [\"_target_\"]\n",
    "dec_params = collect_config_variables(dec_var_names)\n",
    "\n",
    "# Load stock config if defined\n",
    "if (decoder):\n",
    "    with initialize(config_path=\"ilab-pangaea-bench/configs/decoder\", version_base=None):\n",
    "        dec_cfg = compose(config_name=decoder)\n",
    "else:\n",
    "    dec_cfg = {}\n",
    "    dec_override = True\n",
    "\n",
    "# Merge user and stock configs depending on override preference\n",
    "dec_cfg, dec_cfg_filename = build_config(\"decoder\", dec_params, dec_cfg, dec_override)"
   ]
  },
  {
   "cell_type": "markdown",
   "id": "dc5e5892",
   "metadata": {
    "jp-MarkdownHeadingCollapsed": true
   },
   "source": [
    "### Preprocessing Options\n",
    "This config has a different format from all of the other configs; it's separated into train, val, and test fields. See the first cell under the \"parameters\" subsection for details. There are also further instructions on how to edit this config below. \n",
    "\n",
    "To edit preprocessing: edit each list of preprocessing targets to change the preprocessing behavior of the stock preprocessor; lists should contain base class names, which are found in pangaea/engine/data_preprocessor.py. \n",
    "\n",
    "Example: `train_preprocessing = [\"RandomCropToEncoder\", \"BandFilter\", ...]` \n",
    "\n",
    "NOT: `train_preprocessing = [\"pangaea.engine.data_preprocessor.RandomCropToEncoder\", \"pangaea.engine.data_preprocessor.BandFilter\", ...]`"
   ]
  },
  {
   "cell_type": "markdown",
   "id": "97844a13-3f62-467c-9980-dbe4aad59632",
   "metadata": {},
   "source": [
    "#### Filename"
   ]
  },
  {
   "cell_type": "code",
   "execution_count": 21,
   "id": "6659b777",
   "metadata": {},
   "outputs": [
    {
     "name": "stdout",
     "output_type": "stream",
     "text": [
      "['cls_resize', 'pb_minmax', 'reg_default', 'seg_default', 'seg_focus_crop', 'seg_importance_crop', 'seg_resize', 'seg_wo_norm']\n"
     ]
    }
   ],
   "source": [
    "# PRINT OPTIONS\n",
    "preprocessing_options = get_folder_options(\"preprocessing\")\n",
    "print(preprocessing_options)"
   ]
  },
  {
   "cell_type": "code",
   "execution_count": 22,
   "id": "2fd3e8aa",
   "metadata": {},
   "outputs": [],
   "source": [
    "# DEFINE YOUR PREPROCESSING HERE FROM THE LIST ABOVE\n",
    "preprocessing = \"pb_minmax\""
   ]
  },
  {
   "cell_type": "markdown",
   "id": "b4ab5c7e-62d4-4b49-829c-a9c5ef0e7eaa",
   "metadata": {},
   "source": [
    "#### Parameters"
   ]
  },
  {
   "cell_type": "code",
   "execution_count": null,
   "id": "f692f994-37a6-4691-bcc6-1a9a1c05af3c",
   "metadata": {},
   "outputs": [],
   "source": [
    "pre_override = False  # Set to True if you want to define your own functionality"
   ]
  },
  {
   "cell_type": "code",
   "execution_count": 24,
   "id": "6867846b-c6af-41c8-93fa-f5c3ae8b6697",
   "metadata": {},
   "outputs": [
    {
     "name": "stdout",
     "output_type": "stream",
     "text": [
      "train:\n",
      "  _target_: pangaea.engine.data_preprocessor.Preprocessor\n",
      "  preprocessor_cfg:\n",
      "  - _target_: pangaea.engine.data_preprocessor.PBMinMaxNorm\n",
      "val:\n",
      "  _target_: pangaea.engine.data_preprocessor.Preprocessor\n",
      "  preprocessor_cfg:\n",
      "  - _target_: pangaea.engine.data_preprocessor.PBMinMaxNorm\n",
      "test:\n",
      "  _target_: pangaea.engine.data_preprocessor.Preprocessor\n",
      "  preprocessor_cfg:\n",
      "  - _target_: pangaea.engine.data_preprocessor.PBMinMaxNorm\n",
      "\n"
     ]
    }
   ],
   "source": [
    "# Load stock config if defined\n",
    "if (preprocessing):\n",
    "    with initialize(config_path=\"ilab-pangaea-bench/configs/preprocessing\", version_base=None):\n",
    "        pre_cfg = compose(config_name=preprocessing)\n",
    "else:\n",
    "    pre_cfg = {}\n",
    "    pre_override = True\n",
    "\n",
    "# This will display the config contents, since preprocessing has a specific format\n",
    "print(OmegaConf.to_yaml(pre_cfg))"
   ]
  },
  {
   "cell_type": "code",
   "execution_count": 25,
   "id": "a44dc053-9303-4d2f-965c-fef32ca2feda",
   "metadata": {},
   "outputs": [],
   "source": [
    "train_preprocessing = []\n",
    "val_preprocessing = []\n",
    "test_preprocessing = []"
   ]
  },
  {
   "cell_type": "markdown",
   "id": "f2d9ede8-28aa-4145-b626-8558eb62f5d7",
   "metadata": {},
   "source": [
    "#### Build config"
   ]
  },
  {
   "cell_type": "code",
   "execution_count": 26,
   "id": "76377bd7-9177-4ae7-9ce9-a1090c0542d8",
   "metadata": {},
   "outputs": [
    {
     "name": "stdout",
     "output_type": "stream",
     "text": [
      "Warning: Variable 'train' not found in globals\n",
      "Warning: Variable 'val' not found in globals\n",
      "Warning: Variable 'test' not found in globals\n"
     ]
    }
   ],
   "source": [
    "# 3 sections: train, val, test; all have same basic layout, so we copy a default dict\n",
    "preprocessor_target = \"pangaea.engine.data_preprocessor.Preprocessor\"\n",
    "default_pre_dict = {\"_target_\": preprocessor_target, \"preprocessor_cfg\": []}\n",
    "\n",
    "if train_preprocessing:\n",
    "    train = create_split_dict(\"train\", train_preprocessing, default_pre_dict)\n",
    "if val_preprocessing:\n",
    "    val = create_split_dict(\"val\", val_preprocessing, default_pre_dict)\n",
    "if test_preprocessing:\n",
    "    test = create_split_dict(\"test\", test_preprocessing, default_pre_dict)\n",
    "\n",
    "# Automatically populate variables\n",
    "pre_var_names = {\"train\", \"val\", \"test\"}\n",
    "pre_params = collect_config_variables(pre_var_names)"
   ]
  },
  {
   "cell_type": "code",
   "execution_count": 27,
   "id": "c75e2ad5-c50e-421d-ba63-86f4a83858de",
   "metadata": {},
   "outputs": [
    {
     "name": "stdout",
     "output_type": "stream",
     "text": [
      "original cfg: {'train': {'_target_': 'pangaea.engine.data_preprocessor.Preprocessor', 'preprocessor_cfg': [{'_target_': 'pangaea.engine.data_preprocessor.PBMinMaxNorm'}]}, 'val': {'_target_': 'pangaea.engine.data_preprocessor.Preprocessor', 'preprocessor_cfg': [{'_target_': 'pangaea.engine.data_preprocessor.PBMinMaxNorm'}]}, 'test': {'_target_': 'pangaea.engine.data_preprocessor.Preprocessor', 'preprocessor_cfg': [{'_target_': 'pangaea.engine.data_preprocessor.PBMinMaxNorm'}]}}\n",
      "user params: {}\n",
      "merged cfg: {'train': {'_target_': 'pangaea.engine.data_preprocessor.Preprocessor', 'preprocessor_cfg': [{'_target_': 'pangaea.engine.data_preprocessor.PBMinMaxNorm'}]}, 'val': {'_target_': 'pangaea.engine.data_preprocessor.Preprocessor', 'preprocessor_cfg': [{'_target_': 'pangaea.engine.data_preprocessor.PBMinMaxNorm'}]}, 'test': {'_target_': 'pangaea.engine.data_preprocessor.Preprocessor', 'preprocessor_cfg': [{'_target_': 'pangaea.engine.data_preprocessor.PBMinMaxNorm'}]}}\n",
      "Config saved to custom_preprocessing.yaml\n"
     ]
    }
   ],
   "source": [
    "# Merge user and stock configs depending on override preference\n",
    "pre_cfg, pre_cfg_filename = build_config(\"preprocessing\", pre_params, pre_cfg, pre_override)"
   ]
  },
  {
   "cell_type": "markdown",
   "id": "f43fbdfd",
   "metadata": {
    "jp-MarkdownHeadingCollapsed": true
   },
   "source": [
    "### Loss Options\n",
    "Also known as a \"criterion\"."
   ]
  },
  {
   "cell_type": "markdown",
   "id": "cf65f94c-e8d1-4813-bcdc-714a35bafe2d",
   "metadata": {},
   "source": [
    "#### Filename"
   ]
  },
  {
   "cell_type": "code",
   "execution_count": 28,
   "id": "a39df60e",
   "metadata": {},
   "outputs": [
    {
     "name": "stdout",
     "output_type": "stream",
     "text": [
      "['binary_cross_entropy', 'cross_entropy', 'dice', 'mse', 'none', 'spectral_spatial', 'weighted_cross_entropy']\n"
     ]
    }
   ],
   "source": [
    "# PRINT OPTIONS\n",
    "loss_fn_options = get_folder_options(\"criterion\")\n",
    "print(loss_fn_options)"
   ]
  },
  {
   "cell_type": "code",
   "execution_count": 29,
   "id": "c3c795db",
   "metadata": {},
   "outputs": [],
   "source": [
    "# DEFINE YOUR LOSS FUNCTION HERE FROM THE LIST ABOVE\n",
    "loss_fn = \"mse\""
   ]
  },
  {
   "cell_type": "markdown",
   "id": "5909a700-ca56-458d-b63b-014b06d3851d",
   "metadata": {},
   "source": [
    "#### Parameters"
   ]
  },
  {
   "cell_type": "code",
   "execution_count": null,
   "id": "0e5d82b6-2985-4ca9-98b9-267334610c23",
   "metadata": {},
   "outputs": [],
   "source": [
    "loss_override = False  # Set to True if you want to define your own functionality\n",
    "_target_ = \"pangaea.utils.losses.DICELoss\"  # Can also be an external package, like torch.nn.MSELoss"
   ]
  },
  {
   "cell_type": "markdown",
   "id": "c698567e-cd3b-4f08-a840-7a818b6d22a0",
   "metadata": {},
   "source": [
    "#### Build config"
   ]
  },
  {
   "cell_type": "code",
   "execution_count": 31,
   "id": "577bf50f-9290-44f4-9a5f-eba03f945149",
   "metadata": {},
   "outputs": [
    {
     "name": "stdout",
     "output_type": "stream",
     "text": [
      "original cfg: {'_target_': 'torch.nn.MSELoss'}\n",
      "user params: {'_target_': 'pangaea.utils.losses.DICELoss'}\n",
      "merged cfg: {'_target_': 'torch.nn.MSELoss'}\n",
      "Config saved to mseloss.yaml\n"
     ]
    }
   ],
   "source": [
    "# Automatically populate variables\n",
    "loss_var_names = [\"_target_\"]\n",
    "loss_params = collect_config_variables(loss_var_names)\n",
    "\n",
    "# Load stock config if defined\n",
    "if (loss_fn):\n",
    "    with initialize(config_path=\"ilab-pangaea-bench/configs/criterion\", version_base=None):\n",
    "        loss_cfg = compose(config_name=loss_fn)\n",
    "else:\n",
    "    loss_cfg = {}\n",
    "\n",
    "# Merge user and stock configs depending on override preference\n",
    "loss_cfg, loss_cfg_filename = build_config(\"criterion\", loss_params, loss_cfg, loss_override)"
   ]
  },
  {
   "cell_type": "markdown",
   "id": "29078790-6e11-40fd-9bba-38eb596ed44c",
   "metadata": {},
   "source": [
    "### Optimizer, LR Scheduler Options\n",
    "These are optional. If you don't want to include one or both, leave them as the empty string, `\"\"`."
   ]
  },
  {
   "cell_type": "code",
   "execution_count": 32,
   "id": "24782a39-2e1a-40b3-9ff9-79febe9b3776",
   "metadata": {},
   "outputs": [],
   "source": [
    "optimizer = \"adamw\"  # or \"sgd\"\n",
    "lr_scheduler = \"multi_step_lr\" "
   ]
  },
  {
   "cell_type": "markdown",
   "id": "3ac4c3c2",
   "metadata": {
    "jp-MarkdownHeadingCollapsed": true
   },
   "source": [
    "### GPU Acceleration Options\n",
    "You do not need to edit this section unless you are an advanced user."
   ]
  },
  {
   "cell_type": "code",
   "execution_count": 33,
   "id": "d815e130",
   "metadata": {},
   "outputs": [],
   "source": [
    "nnodes = 1\n",
    "nproc_per_node = 1\n",
    "script_path = \"pangaea/run.py\""
   ]
  },
  {
   "cell_type": "markdown",
   "id": "61e35632",
   "metadata": {},
   "source": [
    "## Build and run command\n",
    "Do NOT edit anything in this section, or the training command won't execute properly. As of right now, the logger doesn't output properly to the jupyter notebook. \n",
    "\n",
    "**If the command is taking a long time (sometimes hours!), the model is running the training loop.**"
   ]
  },
  {
   "cell_type": "code",
   "execution_count": 34,
   "id": "0e0f1738",
   "metadata": {},
   "outputs": [],
   "source": [
    "# Build the command\n",
    "command = [\n",
    "    \"torchrun\",\n",
    "    f\"--nnodes={nnodes}\",\n",
    "    f\"--nproc_per_node={nproc_per_node}\",\n",
    "    \"pangaea/run.py\",\n",
    "    \"--config-name=train\",\n",
    "    f\"dataset={ds_cfg_filename}\",\n",
    "    f\"encoder={enc_cfg_filename}\",\n",
    "    f\"decoder={dec_cfg_filename}\",\n",
    "    f\"preprocessing={pre_cfg_filename}\",\n",
    "    f\"criterion={loss_cfg_filename}\",\n",
    "    f\"task={task}\"\n",
    "]\n",
    "\n",
    "if optimizer:\n",
    "    command.append(f\"optimizer={optimizer}\")\n",
    "if lr_scheduler:\n",
    "    command.append(f\"lr_scheduler={lr_scheduler}\")"
   ]
  },
  {
   "cell_type": "code",
   "execution_count": 35,
   "id": "d5af1403",
   "metadata": {},
   "outputs": [
    {
     "ename": "KeyboardInterrupt",
     "evalue": "",
     "output_type": "error",
     "traceback": [
      "\u001b[0;31m---------------------------------------------------------------------------\u001b[0m",
      "\u001b[0;31mKeyboardInterrupt\u001b[0m                         Traceback (most recent call last)",
      "Cell \u001b[0;32mIn[35], line 3\u001b[0m\n\u001b[1;32m      1\u001b[0m \u001b[38;5;28;01mtry\u001b[39;00m:\n\u001b[1;32m      2\u001b[0m     os\u001b[38;5;241m.\u001b[39mchdir(\u001b[38;5;124m\"\u001b[39m\u001b[38;5;124m./ilab-pangaea-bench\u001b[39m\u001b[38;5;124m\"\u001b[39m)\n\u001b[0;32m----> 3\u001b[0m     result \u001b[38;5;241m=\u001b[39m \u001b[43msubprocess\u001b[49m\u001b[38;5;241;43m.\u001b[39;49m\u001b[43mrun\u001b[49m\u001b[43m(\u001b[49m\u001b[43mcommand\u001b[49m\u001b[43m,\u001b[49m\u001b[43m \u001b[49m\n\u001b[1;32m      4\u001b[0m \u001b[43m                          \u001b[49m\u001b[43mcapture_output\u001b[49m\u001b[38;5;241;43m=\u001b[39;49m\u001b[38;5;28;43;01mTrue\u001b[39;49;00m\u001b[43m,\u001b[49m\u001b[43m \u001b[49m\n\u001b[1;32m      5\u001b[0m \u001b[43m                          \u001b[49m\u001b[43mtext\u001b[49m\u001b[38;5;241;43m=\u001b[39;49m\u001b[38;5;28;43;01mTrue\u001b[39;49;00m\u001b[43m,\u001b[49m\u001b[43m \u001b[49m\n\u001b[1;32m      6\u001b[0m \u001b[43m                          \u001b[49m\u001b[43mcheck\u001b[49m\u001b[38;5;241;43m=\u001b[39;49m\u001b[38;5;28;43;01mTrue\u001b[39;49;00m\u001b[43m)\u001b[49m\n\u001b[1;32m      7\u001b[0m     \u001b[38;5;28mprint\u001b[39m(\u001b[38;5;124m\"\u001b[39m\u001b[38;5;124mTraining complete!\u001b[39m\u001b[38;5;124m\"\u001b[39m)\n\u001b[1;32m      8\u001b[0m \u001b[38;5;28;01mexcept\u001b[39;00m subprocess\u001b[38;5;241m.\u001b[39mCalledProcessError \u001b[38;5;28;01mas\u001b[39;00m e:\n",
      "File \u001b[0;32m~/.conda/envs/pangaea-bench/lib/python3.10/subprocess.py:505\u001b[0m, in \u001b[0;36mrun\u001b[0;34m(input, capture_output, timeout, check, *popenargs, **kwargs)\u001b[0m\n\u001b[1;32m    503\u001b[0m \u001b[38;5;28;01mwith\u001b[39;00m Popen(\u001b[38;5;241m*\u001b[39mpopenargs, \u001b[38;5;241m*\u001b[39m\u001b[38;5;241m*\u001b[39mkwargs) \u001b[38;5;28;01mas\u001b[39;00m process:\n\u001b[1;32m    504\u001b[0m     \u001b[38;5;28;01mtry\u001b[39;00m:\n\u001b[0;32m--> 505\u001b[0m         stdout, stderr \u001b[38;5;241m=\u001b[39m \u001b[43mprocess\u001b[49m\u001b[38;5;241;43m.\u001b[39;49m\u001b[43mcommunicate\u001b[49m\u001b[43m(\u001b[49m\u001b[38;5;28;43minput\u001b[39;49m\u001b[43m,\u001b[49m\u001b[43m \u001b[49m\u001b[43mtimeout\u001b[49m\u001b[38;5;241;43m=\u001b[39;49m\u001b[43mtimeout\u001b[49m\u001b[43m)\u001b[49m\n\u001b[1;32m    506\u001b[0m     \u001b[38;5;28;01mexcept\u001b[39;00m TimeoutExpired \u001b[38;5;28;01mas\u001b[39;00m exc:\n\u001b[1;32m    507\u001b[0m         process\u001b[38;5;241m.\u001b[39mkill()\n",
      "File \u001b[0;32m~/.conda/envs/pangaea-bench/lib/python3.10/subprocess.py:1154\u001b[0m, in \u001b[0;36mPopen.communicate\u001b[0;34m(self, input, timeout)\u001b[0m\n\u001b[1;32m   1151\u001b[0m     endtime \u001b[38;5;241m=\u001b[39m \u001b[38;5;28;01mNone\u001b[39;00m\n\u001b[1;32m   1153\u001b[0m \u001b[38;5;28;01mtry\u001b[39;00m:\n\u001b[0;32m-> 1154\u001b[0m     stdout, stderr \u001b[38;5;241m=\u001b[39m \u001b[38;5;28;43mself\u001b[39;49m\u001b[38;5;241;43m.\u001b[39;49m\u001b[43m_communicate\u001b[49m\u001b[43m(\u001b[49m\u001b[38;5;28;43minput\u001b[39;49m\u001b[43m,\u001b[49m\u001b[43m \u001b[49m\u001b[43mendtime\u001b[49m\u001b[43m,\u001b[49m\u001b[43m \u001b[49m\u001b[43mtimeout\u001b[49m\u001b[43m)\u001b[49m\n\u001b[1;32m   1155\u001b[0m \u001b[38;5;28;01mexcept\u001b[39;00m \u001b[38;5;167;01mKeyboardInterrupt\u001b[39;00m:\n\u001b[1;32m   1156\u001b[0m     \u001b[38;5;66;03m# https://bugs.python.org/issue25942\u001b[39;00m\n\u001b[1;32m   1157\u001b[0m     \u001b[38;5;66;03m# See the detailed comment in .wait().\u001b[39;00m\n\u001b[1;32m   1158\u001b[0m     \u001b[38;5;28;01mif\u001b[39;00m timeout \u001b[38;5;129;01mis\u001b[39;00m \u001b[38;5;129;01mnot\u001b[39;00m \u001b[38;5;28;01mNone\u001b[39;00m:\n",
      "File \u001b[0;32m~/.conda/envs/pangaea-bench/lib/python3.10/subprocess.py:2021\u001b[0m, in \u001b[0;36mPopen._communicate\u001b[0;34m(self, input, endtime, orig_timeout)\u001b[0m\n\u001b[1;32m   2014\u001b[0m     \u001b[38;5;28mself\u001b[39m\u001b[38;5;241m.\u001b[39m_check_timeout(endtime, orig_timeout,\n\u001b[1;32m   2015\u001b[0m                         stdout, stderr,\n\u001b[1;32m   2016\u001b[0m                         skip_check_and_raise\u001b[38;5;241m=\u001b[39m\u001b[38;5;28;01mTrue\u001b[39;00m)\n\u001b[1;32m   2017\u001b[0m     \u001b[38;5;28;01mraise\u001b[39;00m \u001b[38;5;167;01mRuntimeError\u001b[39;00m(  \u001b[38;5;66;03m# Impossible :)\u001b[39;00m\n\u001b[1;32m   2018\u001b[0m         \u001b[38;5;124m'\u001b[39m\u001b[38;5;124m_check_timeout(..., skip_check_and_raise=True) \u001b[39m\u001b[38;5;124m'\u001b[39m\n\u001b[1;32m   2019\u001b[0m         \u001b[38;5;124m'\u001b[39m\u001b[38;5;124mfailed to raise TimeoutExpired.\u001b[39m\u001b[38;5;124m'\u001b[39m)\n\u001b[0;32m-> 2021\u001b[0m ready \u001b[38;5;241m=\u001b[39m \u001b[43mselector\u001b[49m\u001b[38;5;241;43m.\u001b[39;49m\u001b[43mselect\u001b[49m\u001b[43m(\u001b[49m\u001b[43mtimeout\u001b[49m\u001b[43m)\u001b[49m\n\u001b[1;32m   2022\u001b[0m \u001b[38;5;28mself\u001b[39m\u001b[38;5;241m.\u001b[39m_check_timeout(endtime, orig_timeout, stdout, stderr)\n\u001b[1;32m   2024\u001b[0m \u001b[38;5;66;03m# XXX Rewrite these to use non-blocking I/O on the file\u001b[39;00m\n\u001b[1;32m   2025\u001b[0m \u001b[38;5;66;03m# objects; they are no longer using C stdio!\u001b[39;00m\n",
      "File \u001b[0;32m~/.conda/envs/pangaea-bench/lib/python3.10/selectors.py:416\u001b[0m, in \u001b[0;36m_PollLikeSelector.select\u001b[0;34m(self, timeout)\u001b[0m\n\u001b[1;32m    414\u001b[0m ready \u001b[38;5;241m=\u001b[39m []\n\u001b[1;32m    415\u001b[0m \u001b[38;5;28;01mtry\u001b[39;00m:\n\u001b[0;32m--> 416\u001b[0m     fd_event_list \u001b[38;5;241m=\u001b[39m \u001b[38;5;28;43mself\u001b[39;49m\u001b[38;5;241;43m.\u001b[39;49m\u001b[43m_selector\u001b[49m\u001b[38;5;241;43m.\u001b[39;49m\u001b[43mpoll\u001b[49m\u001b[43m(\u001b[49m\u001b[43mtimeout\u001b[49m\u001b[43m)\u001b[49m\n\u001b[1;32m    417\u001b[0m \u001b[38;5;28;01mexcept\u001b[39;00m \u001b[38;5;167;01mInterruptedError\u001b[39;00m:\n\u001b[1;32m    418\u001b[0m     \u001b[38;5;28;01mreturn\u001b[39;00m ready\n",
      "\u001b[0;31mKeyboardInterrupt\u001b[0m: "
     ]
    }
   ],
   "source": [
    "try:\n",
    "    os.chdir(\"./ilab-pangaea-bench\")\n",
    "    result = subprocess.run(command, \n",
    "                          capture_output=True, \n",
    "                          text=True, \n",
    "                          check=True)\n",
    "    print(\"Training complete!\")\n",
    "except subprocess.CalledProcessError as e:\n",
    "    print(f\"Command failed with return code {e.returncode}\")\n",
    "    print(\"Output from stderr:\", e.stderr)"
   ]
  }
 ],
 "metadata": {
  "kernelspec": {
   "display_name": "Python [conda env:.conda-pangaea-bench]",
   "language": "python",
   "name": "conda-env-.conda-pangaea-bench-py"
  },
  "language_info": {
   "codemirror_mode": {
    "name": "ipython",
    "version": 3
   },
   "file_extension": ".py",
   "mimetype": "text/x-python",
   "name": "python",
   "nbconvert_exporter": "python",
   "pygments_lexer": "ipython3",
   "version": "3.10.13"
  }
 },
 "nbformat": 4,
 "nbformat_minor": 5
}
