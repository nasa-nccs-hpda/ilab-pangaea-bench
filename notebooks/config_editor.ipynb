{
 "cells": [
  {
   "cell_type": "markdown",
   "id": "93d44567",
   "metadata": {},
   "source": [
    "# Pangaea Configuration Editor Notebook\n",
    "This notebook aims to help users train their desired models on whichever datasets they wish, by allowing users an easy way to edit configuration files. "
   ]
  },
  {
   "cell_type": "markdown",
   "id": "7c24d7ea",
   "metadata": {},
   "source": [
    "## Setup\n",
    "Importing python libraries. "
   ]
  },
  {
   "cell_type": "code",
   "execution_count": 1,
   "id": "42d4775a",
   "metadata": {},
   "outputs": [],
   "source": [
    "import os\n",
    "import torch\n",
    "import subprocess\n",
    "import yaml"
   ]
  },
  {
   "cell_type": "code",
   "execution_count": 2,
   "id": "9297650c",
   "metadata": {},
   "outputs": [],
   "source": [
    "config_path = \"../configs/preprocessing/cls_resize.yaml\""
   ]
  },
  {
   "cell_type": "code",
   "execution_count": 3,
   "id": "c5096164",
   "metadata": {},
   "outputs": [
    {
     "name": "stdout",
     "output_type": "stream",
     "text": [
      "train:\n",
      "  _target_:\n",
      "    pangaea.engine.data_preprocessor.Preprocessor\n",
      "  preprocessor_cfg:\n",
      "      _target_:\n",
      "        pangaea.engine.data_preprocessor.ResizeToEncoder\n",
      "      _target_:\n",
      "        pangaea.engine.data_preprocessor.BandFilter\n",
      "      _target_:\n",
      "        pangaea.engine.data_preprocessor.NormalizeMeanStd\n",
      "      _target_:\n",
      "        pangaea.engine.data_preprocessor.BandPadding\n",
      "val:\n",
      "  _target_:\n",
      "    pangaea.engine.data_preprocessor.Preprocessor\n",
      "  preprocessor_cfg:\n",
      "      _target_:\n",
      "        pangaea.engine.data_preprocessor.ResizeToEncoder\n",
      "      _target_:\n",
      "        pangaea.engine.data_preprocessor.BandFilter\n",
      "      _target_:\n",
      "        pangaea.engine.data_preprocessor.NormalizeMeanStd\n",
      "      _target_:\n",
      "        pangaea.engine.data_preprocessor.BandPadding\n",
      "test:\n",
      "  _target_:\n",
      "    pangaea.engine.data_preprocessor.Preprocessor\n",
      "  preprocessor_cfg:\n",
      "      _target_:\n",
      "        pangaea.engine.data_preprocessor.ResizeToEncoder\n",
      "      _target_:\n",
      "        pangaea.engine.data_preprocessor.BandFilter\n",
      "      _target_:\n",
      "        pangaea.engine.data_preprocessor.NormalizeMeanStd\n",
      "      _target_:\n",
      "        pangaea.engine.data_preprocessor.BandPadding\n"
     ]
    }
   ],
   "source": [
    "def print_nested_yaml(data, indent=0):\n",
    "    if isinstance(data, dict):\n",
    "        for k, v in data.items():\n",
    "            print(f\"{' ' * indent}{k}:\")\n",
    "            print_nested_yaml(v, indent + 2)\n",
    "    elif isinstance(data, list):\n",
    "        for item in data:\n",
    "            if isinstance(item, (dict, list)):\n",
    "                print_nested_yaml(item, indent + 2)\n",
    "            else:\n",
    "                print(f\"{' ' * indent}- {item}\")\n",
    "    else:\n",
    "        print(f\"{' ' * indent}{data}\")\n",
    "\n",
    "with open(config_path, 'r') as config:\n",
    "    data = yaml.safe_load(config)\n",
    "    print_nested_yaml(data)"
   ]
  }
 ],
 "metadata": {
  "kernelspec": {
   "display_name": "pangaea-bench",
   "language": "python",
   "name": "python3"
  },
  "language_info": {
   "codemirror_mode": {
    "name": "ipython",
    "version": 3
   },
   "file_extension": ".py",
   "mimetype": "text/x-python",
   "name": "python",
   "nbconvert_exporter": "python",
   "pygments_lexer": "ipython3",
   "version": "3.10.13"
  }
 },
 "nbformat": 4,
 "nbformat_minor": 5
}
