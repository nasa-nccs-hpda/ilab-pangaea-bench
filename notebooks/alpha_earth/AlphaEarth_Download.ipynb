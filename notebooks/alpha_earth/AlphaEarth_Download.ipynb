{
 "cells": [
  {
   "cell_type": "markdown",
   "id": "d139d7aa-6aa6-4149-a52b-6bbd9b2ca75b",
   "metadata": {},
   "source": [
    "# Example Notebook to Download Alpha Earth Embeddings at Scale"
   ]
  },
  {
   "cell_type": "code",
   "execution_count": null,
   "id": "15ad5c15-7fe3-4dcb-aa22-64a4d3ea8935",
   "metadata": {},
   "outputs": [],
   "source": [
    "# !pip install geedim"
   ]
  },
  {
   "cell_type": "markdown",
   "id": "777699e9-af8d-4322-882e-f90bd628b3f7",
   "metadata": {},
   "source": [
    "## Import Libraries"
   ]
  },
  {
   "cell_type": "code",
   "execution_count": null,
   "id": "8d4b1fe9-11cd-4e65-99c7-22b5b40914f0",
   "metadata": {},
   "outputs": [],
   "source": [
    "import ee\n",
    "import os\n",
    "import geedim as gd\n",
    "import geopandas as gpd\n",
    "import rioxarray as rxr\n",
    "\n",
    "from glob import glob\n",
    "from pathlib import Path\n",
    "from shapely.geometry import box, mapping"
   ]
  },
  {
   "cell_type": "markdown",
   "id": "4827ba94-81de-4278-98a2-dbbb46c42157",
   "metadata": {},
   "source": [
    "## Setup Credentials"
   ]
  },
  {
   "cell_type": "code",
   "execution_count": null,
   "id": "56791e75-7252-4323-8fc7-59e503e74754",
   "metadata": {},
   "outputs": [],
   "source": [
    "gee_account = 'replace_with_your_service_account' # or just replace the auth with Authenticate\n",
    "gee_key = 'replace_with_your_service_key.json'"
   ]
  },
  {
   "cell_type": "code",
   "execution_count": null,
   "id": "b0edf082-0efa-4a36-9140-d44fc309a991",
   "metadata": {},
   "outputs": [],
   "source": [
    "# get credentials\n",
    "credentials = ee.ServiceAccountCredentials(gee_account, gee_key)\n",
    "ee.Initialize(credentials)  # gd initialize does not take service account\n",
    "print(\"Initialized\")"
   ]
  },
  {
   "cell_type": "markdown",
   "id": "16b0a33c-a2ff-4e0e-aacb-3f944e114747",
   "metadata": {},
   "source": [
    "## Open Geospatial Data"
   ]
  },
  {
   "cell_type": "code",
   "execution_count": null,
   "id": "0c1ed1f0-9c90-4a2b-91eb-60aea0f86162",
   "metadata": {},
   "outputs": [],
   "source": [
    "aoi_filename = 'boreal_tiles_v004_model_ready.gpkg'"
   ]
  },
  {
   "cell_type": "code",
   "execution_count": null,
   "id": "ffd86175-b201-428e-ae02-9bb0c79b7f38",
   "metadata": {},
   "outputs": [],
   "source": [
    "aoi_gdf = gpd.read_file(aoi_filename).to_crs(4326)\n",
    "aoi_gdf_crs = aoi_gdf.crs.to_epsg()\n",
    "aoi_gdf"
   ]
  },
  {
   "cell_type": "markdown",
   "id": "b6354693-1d5a-4547-9f6e-2a6c3ac847c7",
   "metadata": {},
   "source": [
    "## Extract Embeddings from a Single Cell"
   ]
  },
  {
   "cell_type": "code",
   "execution_count": null,
   "id": "1fb46b3e-86a1-488d-8865-0eabf47423ed",
   "metadata": {},
   "outputs": [],
   "source": [
    "geom = aoi_gdf.geometry.iloc[0]\n",
    "ee_geom = ee.Geometry(mapping(geom))\n",
    "year = 2023 # year to download\n",
    "scale = 30 # resolution\n",
    "nodata = -9999"
   ]
  },
  {
   "cell_type": "code",
   "execution_count": null,
   "id": "e09a3405-9889-46a4-812d-44c4e33c3afa",
   "metadata": {},
   "outputs": [],
   "source": [
    "output_filename = f'alpha_earth_{year}_{scale}m.tif'"
   ]
  },
  {
   "cell_type": "code",
   "execution_count": null,
   "id": "55107bde-deb6-4df0-a882-0f49ace1313b",
   "metadata": {},
   "outputs": [],
   "source": [
    "aoi_gdf_crs"
   ]
  },
  {
   "cell_type": "markdown",
   "id": "dab234ab-c9bd-4aaf-a597-a1435ea46faa",
   "metadata": {},
   "source": [
    "### No Filtering"
   ]
  },
  {
   "cell_type": "code",
   "execution_count": null,
   "id": "19c59c60-2cc9-45f7-b093-94903a28b23b",
   "metadata": {},
   "outputs": [],
   "source": [
    "# get collection\n",
    "gee_image_collection = ee.ImageCollection('GOOGLE/SATELLITE_EMBEDDING/V1/ANNUAL') \\\n",
    "    .filterBounds(ee_geom) \\\n",
    "    .filterDate(f'{year}-01-01', f'{year+1}-01-01')\n",
    "\n",
    "# clip the imagery again\n",
    "gee_image = gee_image_collection.toBands().clip(ee_geom)\n",
    "\n",
    "im = gd.mask.MaskedImage(gee_image)\n",
    "im.download(output_filename, region=ee_geom, crs=f'EPSG:{aoi_gdf_crs}', scale=scale)"
   ]
  },
  {
   "cell_type": "markdown",
   "id": "fc52a667-e6a5-4ffb-af97-a4bf5038f9ed",
   "metadata": {},
   "source": [
    "### Filtering First Five Bands"
   ]
  },
  {
   "cell_type": "code",
   "execution_count": null,
   "id": "49fb49c8-62fe-4a4a-a159-fde80023a2fe",
   "metadata": {},
   "outputs": [],
   "source": [
    "# get collection\n",
    "gee_image_collection = ee.ImageCollection('GOOGLE/SATELLITE_EMBEDDING/V1/ANNUAL') \\\n",
    "    .filterBounds(ee_geom) \\\n",
    "    .filterDate(f'{year}-01-01', f'{year+1}-01-01')\n",
    "\n",
    "# clip the imagery again\n",
    "gee_image = gee_image_collection.toBands().clip(ee_geom)\n",
    "\n",
    "# get the first 5 band names\n",
    "band_names = gee_image.bandNames().slice(0, 5)\n",
    "\n",
    "# select only those bands\n",
    "gee_image = gee_image.select(band_names)\n",
    "print('Downloading:', f'{len(gee_image.bandNames().getInfo())} bands')\n",
    "\n",
    "im = gd.mask.MaskedImage(gee_image)\n",
    "im.download(output_filename, region=ee_geom, crs=f'EPSG:{aoi_gdf_crs}', scale=scale)"
   ]
  },
  {
   "cell_type": "code",
   "execution_count": null,
   "id": "b1192421-7261-489d-a814-f3f06cf9aeb1",
   "metadata": {},
   "outputs": [],
   "source": [
    "# you can also download it as numpy arrays, xarray, etc.; for more information reference\n",
    "# https://geedim.readthedocs.io/en/stable/getting_started/api.html#numpy"
   ]
  }
 ],
 "metadata": {
  "kernelspec": {
   "display_name": "Python 3 (ipykernel)",
   "language": "python",
   "name": "python3"
  },
  "language_info": {
   "codemirror_mode": {
    "name": "ipython",
    "version": 3
   },
   "file_extension": ".py",
   "mimetype": "text/x-python",
   "name": "python",
   "nbconvert_exporter": "python",
   "pygments_lexer": "ipython3",
   "version": "3.10.17"
  }
 },
 "nbformat": 4,
 "nbformat_minor": 5
}
